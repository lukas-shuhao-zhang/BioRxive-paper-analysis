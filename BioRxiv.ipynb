{
 "cells": [
  {
   "cell_type": "markdown",
   "id": "8e063ac6",
   "metadata": {},
   "source": [
    "# BioRxiv paper analysis - Can we predict which paper gets published?"
   ]
  },
  {
   "cell_type": "markdown",
   "id": "19ab4e97",
   "metadata": {},
   "source": [
    "## Project Overview"
   ]
  },
  {
   "cell_type": "markdown",
   "id": "6caca3bf",
   "metadata": {},
   "source": [
    "BioRxiv is one of the largest pre-print depositories for biology academic research articles. Researchers may choose to upload their articles to BioRxiv before submitting them to a journal for publication.\n",
    "<br><br>\n",
    "In this project, I would like to can use machine learning techniques to predict if BioRxiv preprints get published eventually based on the information and metadata provided by BioRxiv."
   ]
  },
  {
   "cell_type": "code",
   "execution_count": 150,
   "id": "7eb34c7f",
   "metadata": {},
   "outputs": [],
   "source": [
    "import requests\n",
    "import json\n",
    "import pandas as pd\n",
    "import matplotlib.pyplot as plt\n",
    "import numpy as np\n",
    "%matplotlib inline"
   ]
  },
  {
   "cell_type": "markdown",
   "id": "368bb6d9",
   "metadata": {},
   "source": [
    "## Retrieving data from BioRxiv api"
   ]
  },
  {
   "cell_type": "markdown",
   "id": "0f9ec3d9",
   "metadata": {},
   "source": [
    "To build up an initial dataset, I am only retrieving the first 10,000 records from bioRxiv between 2015-01-01 and 2022-01-02"
   ]
  },
  {
   "cell_type": "code",
   "execution_count": null,
   "id": "69edf1be",
   "metadata": {},
   "outputs": [],
   "source": [
    "# biorxiv_data = []\n",
    "# for i in range (0, 10000, 100):\n",
    "#     response = requests.get(\"https://api.biorxiv.org/details/biorxiv/2015-01-01/2022-01-02/\"+str(i)+\"/json\")\n",
    "#     json_data = response.json()\n",
    "#     data_to_save = json_data['collection']\n",
    "#     biorxiv_data.append(data_to_save)"
   ]
  },
  {
   "cell_type": "code",
   "execution_count": null,
   "id": "d383804d",
   "metadata": {},
   "outputs": [],
   "source": [
    "# with open(\"biorxiv.json\", \"w\") as biorxiv:\n",
    "#     json.dump(biorxiv_data, biorxiv, indent = 6) "
   ]
  },
  {
   "cell_type": "code",
   "execution_count": null,
   "id": "1467793f",
   "metadata": {},
   "outputs": [],
   "source": [
    "# data_df_all = pd.DataFrame()\n",
    "# for i in range (len(biorxiv_data)):\n",
    "#     data_df_all = pd.concat([data_df_all, pd.json_normalize(biorxiv_data[i])])"
   ]
  },
  {
   "cell_type": "markdown",
   "id": "44026001",
   "metadata": {},
   "source": [
    "## Initial Data Cleaning and Exploration"
   ]
  },
  {
   "cell_type": "markdown",
   "id": "68e46e87",
   "metadata": {},
   "source": [
    "### Removing duplicated entries and dropping some columns "
   ]
  },
  {
   "cell_type": "code",
   "execution_count": null,
   "id": "efed92c8",
   "metadata": {},
   "outputs": [],
   "source": [
    "#Sorting the papers by doi and version, then removing the duplicated papers and only keep the latest version\n",
    "data_df = data_df_all.sort_values(by=['doi', 'version'], ascending=[True, False], ignore_index=True)\n",
    "data_df = data_df_all.drop_duplicates(subset=['doi'], keep='first', ignore_index=True)"
   ]
  },
  {
   "cell_type": "code",
   "execution_count": 127,
   "id": "6da8a25b",
   "metadata": {},
   "outputs": [
    {
     "data": {
      "text/plain": [
       "0"
      ]
     },
     "execution_count": 127,
     "metadata": {},
     "output_type": "execute_result"
    }
   ],
   "source": [
    "# Checking if there are any duplicated papers left\n",
    "data_df.duplicated(subset=['doi']).sum()"
   ]
  },
  {
   "cell_type": "code",
   "execution_count": 367,
   "id": "4ebd9cad",
   "metadata": {},
   "outputs": [],
   "source": [
    "# Dropping 'jatsxml' and 'server' columns as they do not provide additional information\n",
    "data_df = data_df.drop(columns=['jatsxml', 'server'])"
   ]
  },
  {
   "cell_type": "code",
   "execution_count": 369,
   "id": "4a2670a4",
   "metadata": {},
   "outputs": [],
   "source": [
    "# Adding a new column named 'published' to indicate whether the paper is published\n",
    "data_df = data_df.rename(columns={\"published\":\"published_link\"})"
   ]
  },
  {
   "cell_type": "code",
   "execution_count": 371,
   "id": "80e52425",
   "metadata": {},
   "outputs": [],
   "source": [
    "data_df['published'] = np.where(data_df['published_link'] != 'NA', 1, 0)"
   ]
  },
  {
   "cell_type": "code",
   "execution_count": 372,
   "id": "4ab4dabe",
   "metadata": {
    "scrolled": false
   },
   "outputs": [
    {
     "data": {
      "text/html": [
       "<div>\n",
       "<style scoped>\n",
       "    .dataframe tbody tr th:only-of-type {\n",
       "        vertical-align: middle;\n",
       "    }\n",
       "\n",
       "    .dataframe tbody tr th {\n",
       "        vertical-align: top;\n",
       "    }\n",
       "\n",
       "    .dataframe thead th {\n",
       "        text-align: right;\n",
       "    }\n",
       "</style>\n",
       "<table border=\"1\" class=\"dataframe\">\n",
       "  <thead>\n",
       "    <tr style=\"text-align: right;\">\n",
       "      <th></th>\n",
       "      <th>doi</th>\n",
       "      <th>title</th>\n",
       "      <th>authors</th>\n",
       "      <th>author_corresponding</th>\n",
       "      <th>author_corresponding_institution</th>\n",
       "      <th>date</th>\n",
       "      <th>version</th>\n",
       "      <th>type</th>\n",
       "      <th>license</th>\n",
       "      <th>category</th>\n",
       "      <th>abstract</th>\n",
       "      <th>published_link</th>\n",
       "      <th>published</th>\n",
       "    </tr>\n",
       "  </thead>\n",
       "  <tbody>\n",
       "    <tr>\n",
       "      <th>0</th>\n",
       "      <td>10.1101/001685</td>\n",
       "      <td>Stem cells in Nanomia bijuga (Siphonophora), a...</td>\n",
       "      <td>Stefan Siebert;Freya E. Goetz;Samuel H. Church...</td>\n",
       "      <td>Stefan Siebert</td>\n",
       "      <td>Brown University</td>\n",
       "      <td>2015-03-16</td>\n",
       "      <td>2</td>\n",
       "      <td>New Results</td>\n",
       "      <td>cc_by_nc_nd</td>\n",
       "      <td>Developmental biology</td>\n",
       "      <td>BackgroundSiphonophores (Hydrozoa) have unpara...</td>\n",
       "      <td>10.1186/s13227-015-0018-2</td>\n",
       "      <td>1</td>\n",
       "    </tr>\n",
       "    <tr>\n",
       "      <th>1</th>\n",
       "      <td>10.1101/001016</td>\n",
       "      <td>Predictability of adaptive evolution under the...</td>\n",
       "      <td>Sandeep Venkataram;Diamantis Sellis;Dmitri A P...</td>\n",
       "      <td>Dmitri A Petrov</td>\n",
       "      <td>Stanford University</td>\n",
       "      <td>2015-07-28</td>\n",
       "      <td>4</td>\n",
       "      <td>New Results</td>\n",
       "      <td>cc_by_nc_nd</td>\n",
       "      <td>Evolutionary biology</td>\n",
       "      <td>Predicting the course of evolution is critical...</td>\n",
       "      <td>NA</td>\n",
       "      <td>0</td>\n",
       "    </tr>\n",
       "    <tr>\n",
       "      <th>2</th>\n",
       "      <td>10.1101/002485</td>\n",
       "      <td>Epistasis within the MHC contributes to the ge...</td>\n",
       "      <td>Ben Goudey;Gad Abraham;Eder Kikianty;Qiao Wang...</td>\n",
       "      <td>Michael Inouye</td>\n",
       "      <td>Centre for Systems Genomics, School of BioScie...</td>\n",
       "      <td>2015-08-11</td>\n",
       "      <td>4</td>\n",
       "      <td>New Results</td>\n",
       "      <td>cc_by</td>\n",
       "      <td>Genomics</td>\n",
       "      <td>Epistasis has long been thought to contribute ...</td>\n",
       "      <td>NA</td>\n",
       "      <td>0</td>\n",
       "    </tr>\n",
       "    <tr>\n",
       "      <th>3</th>\n",
       "      <td>10.1101/002634</td>\n",
       "      <td>mangal - making ecological network analysis si...</td>\n",
       "      <td>Timothée E Poisot;Benjamin Baiser;Jennifer A D...</td>\n",
       "      <td>Timothée E Poisot</td>\n",
       "      <td>Université du Québec à Rimouski</td>\n",
       "      <td>2015-02-24</td>\n",
       "      <td>3</td>\n",
       "      <td>New Results</td>\n",
       "      <td>cc_by</td>\n",
       "      <td>Ecology</td>\n",
       "      <td>The study of ecological networks is severely l...</td>\n",
       "      <td>10.1111/ecog.00976</td>\n",
       "      <td>1</td>\n",
       "    </tr>\n",
       "    <tr>\n",
       "      <th>4</th>\n",
       "      <td>10.1101/002782</td>\n",
       "      <td>Large-scale non-targeted metabolomic profiling...</td>\n",
       "      <td>Andrea Ganna;Tove Fall;Samira Salihovic;Woojoo...</td>\n",
       "      <td>Erik Ingelsson</td>\n",
       "      <td>Uppsala University</td>\n",
       "      <td>2015-05-28</td>\n",
       "      <td>3</td>\n",
       "      <td>New Results</td>\n",
       "      <td>cc_by_nd</td>\n",
       "      <td>Bioinformatics</td>\n",
       "      <td>Metabolomic profiling is an emerging technique...</td>\n",
       "      <td>NA</td>\n",
       "      <td>0</td>\n",
       "    </tr>\n",
       "  </tbody>\n",
       "</table>\n",
       "</div>"
      ],
      "text/plain": [
       "              doi                                              title  \\\n",
       "0  10.1101/001685  Stem cells in Nanomia bijuga (Siphonophora), a...   \n",
       "1  10.1101/001016  Predictability of adaptive evolution under the...   \n",
       "2  10.1101/002485  Epistasis within the MHC contributes to the ge...   \n",
       "3  10.1101/002634  mangal - making ecological network analysis si...   \n",
       "4  10.1101/002782  Large-scale non-targeted metabolomic profiling...   \n",
       "\n",
       "                                             authors author_corresponding  \\\n",
       "0  Stefan Siebert;Freya E. Goetz;Samuel H. Church...       Stefan Siebert   \n",
       "1  Sandeep Venkataram;Diamantis Sellis;Dmitri A P...      Dmitri A Petrov   \n",
       "2  Ben Goudey;Gad Abraham;Eder Kikianty;Qiao Wang...       Michael Inouye   \n",
       "3  Timothée E Poisot;Benjamin Baiser;Jennifer A D...    Timothée E Poisot   \n",
       "4  Andrea Ganna;Tove Fall;Samira Salihovic;Woojoo...       Erik Ingelsson   \n",
       "\n",
       "                    author_corresponding_institution        date version  \\\n",
       "0                                   Brown University  2015-03-16       2   \n",
       "1                                Stanford University  2015-07-28       4   \n",
       "2  Centre for Systems Genomics, School of BioScie...  2015-08-11       4   \n",
       "3                    Université du Québec à Rimouski  2015-02-24       3   \n",
       "4                                 Uppsala University  2015-05-28       3   \n",
       "\n",
       "          type      license               category  \\\n",
       "0  New Results  cc_by_nc_nd  Developmental biology   \n",
       "1  New Results  cc_by_nc_nd   Evolutionary biology   \n",
       "2  New Results        cc_by               Genomics   \n",
       "3  New Results        cc_by                Ecology   \n",
       "4  New Results     cc_by_nd         Bioinformatics   \n",
       "\n",
       "                                            abstract  \\\n",
       "0  BackgroundSiphonophores (Hydrozoa) have unpara...   \n",
       "1  Predicting the course of evolution is critical...   \n",
       "2  Epistasis has long been thought to contribute ...   \n",
       "3  The study of ecological networks is severely l...   \n",
       "4  Metabolomic profiling is an emerging technique...   \n",
       "\n",
       "              published_link  published  \n",
       "0  10.1186/s13227-015-0018-2          1  \n",
       "1                         NA          0  \n",
       "2                         NA          0  \n",
       "3         10.1111/ecog.00976          1  \n",
       "4                         NA          0  "
      ]
     },
     "execution_count": 372,
     "metadata": {},
     "output_type": "execute_result"
    }
   ],
   "source": [
    "data_df.head()"
   ]
  },
  {
   "cell_type": "markdown",
   "id": "d710bd5d",
   "metadata": {},
   "source": [
    "### Cleaning up the 'category' column"
   ]
  },
  {
   "cell_type": "code",
   "execution_count": 373,
   "id": "ce1b80fe",
   "metadata": {},
   "outputs": [],
   "source": [
    "data_df = data_df.copy().dropna()"
   ]
  },
  {
   "cell_type": "code",
   "execution_count": 374,
   "id": "3b360b1c",
   "metadata": {},
   "outputs": [],
   "source": [
    "# Removing any leading and trailing space and capitalize the first letter\n",
    "data_df['category'] = data_df['category'].str.capitalize().str.strip()"
   ]
  },
  {
   "cell_type": "code",
   "execution_count": 375,
   "id": "64341922",
   "metadata": {},
   "outputs": [],
   "source": [
    "# Renaming any blank categories to 'Other'\n",
    "data_df.loc[data_df['category'] == '', 'category'] = 'Other'"
   ]
  },
  {
   "cell_type": "markdown",
   "id": "28782b0a",
   "metadata": {},
   "source": [
    "### Splitting the dataset into 'published' and 'unpublished' papers for some quick visualizations"
   ]
  },
  {
   "cell_type": "code",
   "execution_count": 376,
   "id": "b440d016",
   "metadata": {},
   "outputs": [],
   "source": [
    "published_df = data_df[data_df['published'] == 1].reset_index(drop=True)"
   ]
  },
  {
   "cell_type": "code",
   "execution_count": 377,
   "id": "28072c37",
   "metadata": {},
   "outputs": [],
   "source": [
    "unpublished_df = data_df[data_df['published'] == 0].reset_index(drop=True)"
   ]
  },
  {
   "cell_type": "markdown",
   "id": "b7a31ee6",
   "metadata": {},
   "source": [
    "### Published paper count for different categories"
   ]
  },
  {
   "cell_type": "code",
   "execution_count": 378,
   "id": "07ba2396",
   "metadata": {
    "scrolled": false
   },
   "outputs": [
    {
     "data": {
      "image/png": "[encoded data removed]",
      "text/plain": [
       "<Figure size 1080x720 with 1 Axes>"
      ]
     },
     "metadata": {
      "needs_background": "light"
     },
     "output_type": "display_data"
    }
   ],
   "source": [
    "# Plotting the number of published papers in each category\n",
    "plt.figure(figsize=(15,10))\n",
    "height=published_df.groupby('category')['doi'].count().sort_values().plot(kind='barh')\n",
    "plt.title('Published BioRxiv papers by category')\n",
    "plt.show()"
   ]
  },
  {
   "cell_type": "markdown",
   "id": "7f28e051",
   "metadata": {},
   "source": [
    "### Exploring titles to find the most frequently used words"
   ]
  },
  {
   "cell_type": "code",
   "execution_count": 212,
   "id": "9e2b2a4d",
   "metadata": {},
   "outputs": [],
   "source": [
    "# Building a stopwords set to remove stop words and common connection words from the title words list\n",
    "from nltk.corpus import stopwords\n",
    "s=set(stopwords.words('english'))"
   ]
  },
  {
   "cell_type": "code",
   "execution_count": 416,
   "id": "a6355384",
   "metadata": {},
   "outputs": [],
   "source": [
    "# Adding some words to the stopwords list\n",
    "s.update(['data', 'using', 'analysis', 'show', 'also', 'two', 'used', 'reveals'])"
   ]
  },
  {
   "cell_type": "code",
   "execution_count": 417,
   "id": "eff6c128",
   "metadata": {},
   "outputs": [],
   "source": [
    "title_words = pd.Series(x.split() for x in published_df['title']).explode().str.lower()\n",
    "\n",
    "# Removing common stopwords from the title word list\n",
    "title_words_clean = pd.Series(word for word in title_words if word not in s).value_counts()"
   ]
  },
  {
   "cell_type": "code",
   "execution_count": 608,
   "id": "f24552a1",
   "metadata": {},
   "outputs": [
    {
     "data": {
      "text/plain": [
       "gene          265\n",
       "human         248\n",
       "genetic       234\n",
       "genome        202\n",
       "evolution     184\n",
       "cell          168\n",
       "expression    156\n",
       "sequencing    148\n",
       "model         130\n",
       "dynamics      130\n",
       "dtype: int64"
      ]
     },
     "execution_count": 608,
     "metadata": {},
     "output_type": "execute_result"
    }
   ],
   "source": [
    "title_words_clean[0:10]"
   ]
  },
  {
   "cell_type": "markdown",
   "id": "3a137247",
   "metadata": {},
   "source": [
    "### Exploring abstracts to find the most frequently used words"
   ]
  },
  {
   "cell_type": "code",
   "execution_count": 419,
   "id": "6602ae40",
   "metadata": {},
   "outputs": [],
   "source": [
    "abs_words = pd.Series(x.split() for x in published_df['abstract']).explode().str.lower()\n",
    "\n",
    "# Removing common stopwords from the title word list\n",
    "abs_words_clean = pd.Series(word for word in abs_words if word not in s).value_counts()"
   ]
  },
  {
   "cell_type": "code",
   "execution_count": 609,
   "id": "c070a023",
   "metadata": {},
   "outputs": [
    {
     "data": {
      "text/plain": [
       "gene          2239\n",
       "genetic       2120\n",
       "model         1862\n",
       "cell          1688\n",
       "results       1647\n",
       "genes         1607\n",
       "expression    1495\n",
       "different     1449\n",
       "population    1328\n",
       "however,      1311\n",
       "dtype: int64"
      ]
     },
     "execution_count": 609,
     "metadata": {},
     "output_type": "execute_result"
    }
   ],
   "source": [
    "abs_words_clean[0:10]"
   ]
  },
  {
   "cell_type": "markdown",
   "id": "b0f6a042",
   "metadata": {},
   "source": [
    "### Published paper count based on institutions"
   ]
  },
  {
   "cell_type": "code",
   "execution_count": 469,
   "id": "3e4a4d65",
   "metadata": {},
   "outputs": [
    {
     "data": {
      "text/plain": [
       "<AxesSubplot:>"
      ]
     },
     "execution_count": 469,
     "metadata": {},
     "output_type": "execute_result"
    },
    {
     "data": {
      "image/png": "[encoded data removed]",
      "text/plain": [
       "<Figure size 432x288 with 1 Axes>"
      ]
     },
     "metadata": {
      "needs_background": "light"
     },
     "output_type": "display_data"
    }
   ],
   "source": [
    "published_df['author_corresponding_institution'].value_counts()[0:20].plot.barh()"
   ]
  },
  {
   "cell_type": "markdown",
   "id": "42743e6b",
   "metadata": {},
   "source": [
    "### Retrieving citation counts for each published article using the Scopus API"
   ]
  },
  {
   "cell_type": "code",
   "execution_count": 342,
   "id": "05877ab2",
   "metadata": {},
   "outputs": [],
   "source": [
    "from datetime import timedelta\n",
    "from ratelimit import limits, sleep_and_retry\n",
    "import requests\n",
    "\n",
    "@sleep_and_retry\n",
    "@limits(calls=10, period=timedelta(seconds=5).total_seconds())\n",
    "\n",
    "def get_citation():\n",
    "    for i in range (0, published_df.shape[0]):\n",
    "        doi = published_df['published'][i]\n",
    "        query=\"DOI(\"+doi+\")&field=citedby-count\"\n",
    "        response = requests.get(\"https://api.elsevier.com/content/search/scopus?query=\"+query, headers = headers)\n",
    "        if('error' in response.json()['search-results']['entry'][0].keys()):\n",
    "            published_df.loc[i, ('citation_count')] = 0\n",
    "        else: \n",
    "            published_df.loc[i, ('citation_count')] = int(response.json()['search-results']['entry'][0]['citedby-count'])\n",
    "        \n",
    "        response.raise_for_status()"
   ]
  },
  {
   "cell_type": "code",
   "execution_count": 343,
   "id": "4daa546d",
   "metadata": {},
   "outputs": [],
   "source": [
    "#get_citation()"
   ]
  },
  {
   "cell_type": "code",
   "execution_count": 599,
   "id": "623d0a50",
   "metadata": {},
   "outputs": [],
   "source": [
    "#published_df['citation_count'].value_counts().plot.hist(bins = 15)"
   ]
  },
  {
   "cell_type": "code",
   "execution_count": 347,
   "id": "f7ece55e",
   "metadata": {},
   "outputs": [],
   "source": [
    "#published_df.to_csv('published_df.csv')"
   ]
  },
  {
   "cell_type": "code",
   "execution_count": 357,
   "id": "6f1410b2",
   "metadata": {},
   "outputs": [
    {
     "data": {
      "text/html": [
       "<div>\n",
       "<style scoped>\n",
       "    .dataframe tbody tr th:only-of-type {\n",
       "        vertical-align: middle;\n",
       "    }\n",
       "\n",
       "    .dataframe tbody tr th {\n",
       "        vertical-align: top;\n",
       "    }\n",
       "\n",
       "    .dataframe thead th {\n",
       "        text-align: right;\n",
       "    }\n",
       "</style>\n",
       "<table border=\"1\" class=\"dataframe\">\n",
       "  <thead>\n",
       "    <tr style=\"text-align: right;\">\n",
       "      <th></th>\n",
       "      <th>doi</th>\n",
       "      <th>title</th>\n",
       "      <th>authors</th>\n",
       "      <th>author_corresponding</th>\n",
       "      <th>author_corresponding_institution</th>\n",
       "      <th>date</th>\n",
       "      <th>version</th>\n",
       "      <th>type</th>\n",
       "      <th>license</th>\n",
       "      <th>category</th>\n",
       "      <th>jatsxml</th>\n",
       "      <th>abstract</th>\n",
       "      <th>published</th>\n",
       "      <th>server</th>\n",
       "      <th>citation_count</th>\n",
       "    </tr>\n",
       "  </thead>\n",
       "  <tbody>\n",
       "    <tr>\n",
       "      <th>702</th>\n",
       "      <td>10.1101/024034</td>\n",
       "      <td>DADA2: High resolution sample inference from a...</td>\n",
       "      <td>Benjamin J Callahan;Paul J McMurdie;Michael J ...</td>\n",
       "      <td>Benjamin J Callahan</td>\n",
       "      <td>Stanford University</td>\n",
       "      <td>2015-08-06</td>\n",
       "      <td>1</td>\n",
       "      <td>New Results</td>\n",
       "      <td>cc_by_nc_nd</td>\n",
       "      <td>Bioinformatics</td>\n",
       "      <td>https://www.biorxiv.org/content/early/2015/08/...</td>\n",
       "      <td>Microbial communities are commonly characteriz...</td>\n",
       "      <td>10.1038/nmeth.3869</td>\n",
       "      <td>biorxiv</td>\n",
       "      <td>6616</td>\n",
       "    </tr>\n",
       "  </tbody>\n",
       "</table>\n",
       "</div>"
      ],
      "text/plain": [
       "                doi                                              title  \\\n",
       "702  10.1101/024034  DADA2: High resolution sample inference from a...   \n",
       "\n",
       "                                               authors author_corresponding  \\\n",
       "702  Benjamin J Callahan;Paul J McMurdie;Michael J ...  Benjamin J Callahan   \n",
       "\n",
       "    author_corresponding_institution        date version         type  \\\n",
       "702              Stanford University  2015-08-06       1  New Results   \n",
       "\n",
       "         license        category  \\\n",
       "702  cc_by_nc_nd  Bioinformatics   \n",
       "\n",
       "                                               jatsxml  \\\n",
       "702  https://www.biorxiv.org/content/early/2015/08/...   \n",
       "\n",
       "                                              abstract           published  \\\n",
       "702  Microbial communities are commonly characteriz...  10.1038/nmeth.3869   \n",
       "\n",
       "      server  citation_count  \n",
       "702  biorxiv            6616  "
      ]
     },
     "execution_count": 357,
     "metadata": {},
     "output_type": "execute_result"
    }
   ],
   "source": [
    "published_df[published_df['citation_count'] == published_df['citation_count'].max()]"
   ]
  },
  {
   "cell_type": "markdown",
   "id": "f4fdb6ee",
   "metadata": {},
   "source": [
    "### Further cleaning up for machine learning applications"
   ]
  },
  {
   "cell_type": "code",
   "execution_count": 561,
   "id": "9f6bc3c7",
   "metadata": {},
   "outputs": [],
   "source": [
    "data_reg = data_df.copy()"
   ]
  },
  {
   "cell_type": "code",
   "execution_count": 562,
   "id": "1dc2d3cc",
   "metadata": {},
   "outputs": [],
   "source": [
    "data_reg['title_len'] = data_reg['title'].apply(lambda x: len(x.split()))"
   ]
  },
  {
   "cell_type": "code",
   "execution_count": 563,
   "id": "8bdcb744",
   "metadata": {},
   "outputs": [],
   "source": [
    "data_reg['authors_len'] = data_reg['authors'].apply(lambda x: len(x.split(';'))-1)"
   ]
  },
  {
   "cell_type": "code",
   "execution_count": 564,
   "id": "4620c252",
   "metadata": {},
   "outputs": [],
   "source": [
    "data_reg['title_w_top_50_kw'] = data_reg['title'].apply(lambda x: sum(el in title_words_clean[0:50] for el in x.split()))"
   ]
  },
  {
   "cell_type": "code",
   "execution_count": 565,
   "id": "2612f224",
   "metadata": {},
   "outputs": [],
   "source": [
    "data_reg['top_100_inst'] = data_reg['author_corresponding_institution'].apply(lambda x: 1 if x in published_df['author_corresponding_institution'].value_counts()[0:101] else 0)"
   ]
  },
  {
   "cell_type": "code",
   "execution_count": 566,
   "id": "db5b9595",
   "metadata": {},
   "outputs": [],
   "source": [
    "data_reg['top_100_auth'] = data_reg['author_corresponding'].apply(lambda x: 1 if x in published_df['author_corresponding'].value_counts()[0:101] else 0)"
   ]
  },
  {
   "cell_type": "code",
   "execution_count": 567,
   "id": "5f970920",
   "metadata": {},
   "outputs": [],
   "source": [
    "data_reg['date'] = pd.to_datetime(data_reg['date'])"
   ]
  },
  {
   "cell_type": "code",
   "execution_count": 568,
   "id": "bded6b78",
   "metadata": {},
   "outputs": [],
   "source": [
    "data_reg['month'] = data_reg['date'].dt.month_name()"
   ]
  },
  {
   "cell_type": "code",
   "execution_count": 569,
   "id": "eec02282",
   "metadata": {},
   "outputs": [],
   "source": [
    "data_reg['day'] = data_reg['date'].dt.day_name()"
   ]
  },
  {
   "cell_type": "code",
   "execution_count": 573,
   "id": "3f7b9db8",
   "metadata": {},
   "outputs": [],
   "source": [
    "data_reg = pd.get_dummies(data=data_reg, columns=['category', 'month','day'], drop_first=True)"
   ]
  },
  {
   "cell_type": "code",
   "execution_count": 576,
   "id": "3568ec77",
   "metadata": {},
   "outputs": [],
   "source": [
    "data_reg = data_reg.drop(columns=['doi', 'title', 'authors', 'author_corresponding', 'author_corresponding_institution',\n",
    "                       'date','version', 'type', 'license', 'abstract', 'published_link'])"
   ]
  },
  {
   "cell_type": "code",
   "execution_count": 577,
   "id": "2ed5dca8",
   "metadata": {},
   "outputs": [
    {
     "data": {
      "text/html": [
       "<div>\n",
       "<style scoped>\n",
       "    .dataframe tbody tr th:only-of-type {\n",
       "        vertical-align: middle;\n",
       "    }\n",
       "\n",
       "    .dataframe tbody tr th {\n",
       "        vertical-align: top;\n",
       "    }\n",
       "\n",
       "    .dataframe thead th {\n",
       "        text-align: right;\n",
       "    }\n",
       "</style>\n",
       "<table border=\"1\" class=\"dataframe\">\n",
       "  <thead>\n",
       "    <tr style=\"text-align: right;\">\n",
       "      <th></th>\n",
       "      <th>published</th>\n",
       "      <th>title_len</th>\n",
       "      <th>authors_len</th>\n",
       "      <th>title_w_top_50_kw</th>\n",
       "      <th>top_100_inst</th>\n",
       "      <th>top_100_auth</th>\n",
       "      <th>category_Biochemistry</th>\n",
       "      <th>category_Bioengineering</th>\n",
       "      <th>category_Bioinformatics</th>\n",
       "      <th>category_Biophysics</th>\n",
       "      <th>...</th>\n",
       "      <th>month_May</th>\n",
       "      <th>month_November</th>\n",
       "      <th>month_October</th>\n",
       "      <th>month_September</th>\n",
       "      <th>day_Monday</th>\n",
       "      <th>day_Saturday</th>\n",
       "      <th>day_Sunday</th>\n",
       "      <th>day_Thursday</th>\n",
       "      <th>day_Tuesday</th>\n",
       "      <th>day_Wednesday</th>\n",
       "    </tr>\n",
       "  </thead>\n",
       "  <tbody>\n",
       "    <tr>\n",
       "      <th>0</th>\n",
       "      <td>1</td>\n",
       "      <td>13</td>\n",
       "      <td>7</td>\n",
       "      <td>1</td>\n",
       "      <td>0</td>\n",
       "      <td>0</td>\n",
       "      <td>0</td>\n",
       "      <td>0</td>\n",
       "      <td>0</td>\n",
       "      <td>0</td>\n",
       "      <td>...</td>\n",
       "      <td>0</td>\n",
       "      <td>0</td>\n",
       "      <td>0</td>\n",
       "      <td>0</td>\n",
       "      <td>1</td>\n",
       "      <td>0</td>\n",
       "      <td>0</td>\n",
       "      <td>0</td>\n",
       "      <td>0</td>\n",
       "      <td>0</td>\n",
       "    </tr>\n",
       "    <tr>\n",
       "      <th>1</th>\n",
       "      <td>0</td>\n",
       "      <td>9</td>\n",
       "      <td>3</td>\n",
       "      <td>1</td>\n",
       "      <td>1</td>\n",
       "      <td>0</td>\n",
       "      <td>0</td>\n",
       "      <td>0</td>\n",
       "      <td>0</td>\n",
       "      <td>0</td>\n",
       "      <td>...</td>\n",
       "      <td>0</td>\n",
       "      <td>0</td>\n",
       "      <td>0</td>\n",
       "      <td>0</td>\n",
       "      <td>0</td>\n",
       "      <td>0</td>\n",
       "      <td>0</td>\n",
       "      <td>0</td>\n",
       "      <td>1</td>\n",
       "      <td>0</td>\n",
       "    </tr>\n",
       "    <tr>\n",
       "      <th>2</th>\n",
       "      <td>0</td>\n",
       "      <td>12</td>\n",
       "      <td>10</td>\n",
       "      <td>2</td>\n",
       "      <td>0</td>\n",
       "      <td>1</td>\n",
       "      <td>0</td>\n",
       "      <td>0</td>\n",
       "      <td>0</td>\n",
       "      <td>0</td>\n",
       "      <td>...</td>\n",
       "      <td>0</td>\n",
       "      <td>0</td>\n",
       "      <td>0</td>\n",
       "      <td>0</td>\n",
       "      <td>0</td>\n",
       "      <td>0</td>\n",
       "      <td>0</td>\n",
       "      <td>0</td>\n",
       "      <td>1</td>\n",
       "      <td>0</td>\n",
       "    </tr>\n",
       "    <tr>\n",
       "      <th>3</th>\n",
       "      <td>1</td>\n",
       "      <td>7</td>\n",
       "      <td>10</td>\n",
       "      <td>1</td>\n",
       "      <td>0</td>\n",
       "      <td>0</td>\n",
       "      <td>0</td>\n",
       "      <td>0</td>\n",
       "      <td>0</td>\n",
       "      <td>0</td>\n",
       "      <td>...</td>\n",
       "      <td>0</td>\n",
       "      <td>0</td>\n",
       "      <td>0</td>\n",
       "      <td>0</td>\n",
       "      <td>0</td>\n",
       "      <td>0</td>\n",
       "      <td>0</td>\n",
       "      <td>0</td>\n",
       "      <td>1</td>\n",
       "      <td>0</td>\n",
       "    </tr>\n",
       "    <tr>\n",
       "      <th>4</th>\n",
       "      <td>0</td>\n",
       "      <td>9</td>\n",
       "      <td>13</td>\n",
       "      <td>1</td>\n",
       "      <td>1</td>\n",
       "      <td>0</td>\n",
       "      <td>0</td>\n",
       "      <td>0</td>\n",
       "      <td>1</td>\n",
       "      <td>0</td>\n",
       "      <td>...</td>\n",
       "      <td>1</td>\n",
       "      <td>0</td>\n",
       "      <td>0</td>\n",
       "      <td>0</td>\n",
       "      <td>0</td>\n",
       "      <td>0</td>\n",
       "      <td>0</td>\n",
       "      <td>1</td>\n",
       "      <td>0</td>\n",
       "      <td>0</td>\n",
       "    </tr>\n",
       "    <tr>\n",
       "      <th>...</th>\n",
       "      <td>...</td>\n",
       "      <td>...</td>\n",
       "      <td>...</td>\n",
       "      <td>...</td>\n",
       "      <td>...</td>\n",
       "      <td>...</td>\n",
       "      <td>...</td>\n",
       "      <td>...</td>\n",
       "      <td>...</td>\n",
       "      <td>...</td>\n",
       "      <td>...</td>\n",
       "      <td>...</td>\n",
       "      <td>...</td>\n",
       "      <td>...</td>\n",
       "      <td>...</td>\n",
       "      <td>...</td>\n",
       "      <td>...</td>\n",
       "      <td>...</td>\n",
       "      <td>...</td>\n",
       "      <td>...</td>\n",
       "      <td>...</td>\n",
       "    </tr>\n",
       "    <tr>\n",
       "      <th>6355</th>\n",
       "      <td>1</td>\n",
       "      <td>10</td>\n",
       "      <td>2</td>\n",
       "      <td>0</td>\n",
       "      <td>0</td>\n",
       "      <td>0</td>\n",
       "      <td>0</td>\n",
       "      <td>0</td>\n",
       "      <td>1</td>\n",
       "      <td>0</td>\n",
       "      <td>...</td>\n",
       "      <td>0</td>\n",
       "      <td>0</td>\n",
       "      <td>0</td>\n",
       "      <td>0</td>\n",
       "      <td>0</td>\n",
       "      <td>0</td>\n",
       "      <td>0</td>\n",
       "      <td>1</td>\n",
       "      <td>0</td>\n",
       "      <td>0</td>\n",
       "    </tr>\n",
       "    <tr>\n",
       "      <th>6356</th>\n",
       "      <td>0</td>\n",
       "      <td>12</td>\n",
       "      <td>13</td>\n",
       "      <td>1</td>\n",
       "      <td>0</td>\n",
       "      <td>0</td>\n",
       "      <td>0</td>\n",
       "      <td>0</td>\n",
       "      <td>0</td>\n",
       "      <td>0</td>\n",
       "      <td>...</td>\n",
       "      <td>0</td>\n",
       "      <td>0</td>\n",
       "      <td>0</td>\n",
       "      <td>0</td>\n",
       "      <td>0</td>\n",
       "      <td>0</td>\n",
       "      <td>0</td>\n",
       "      <td>1</td>\n",
       "      <td>0</td>\n",
       "      <td>0</td>\n",
       "    </tr>\n",
       "    <tr>\n",
       "      <th>6357</th>\n",
       "      <td>1</td>\n",
       "      <td>3</td>\n",
       "      <td>1</td>\n",
       "      <td>0</td>\n",
       "      <td>1</td>\n",
       "      <td>0</td>\n",
       "      <td>0</td>\n",
       "      <td>0</td>\n",
       "      <td>0</td>\n",
       "      <td>0</td>\n",
       "      <td>...</td>\n",
       "      <td>0</td>\n",
       "      <td>0</td>\n",
       "      <td>0</td>\n",
       "      <td>0</td>\n",
       "      <td>0</td>\n",
       "      <td>0</td>\n",
       "      <td>0</td>\n",
       "      <td>1</td>\n",
       "      <td>0</td>\n",
       "      <td>0</td>\n",
       "    </tr>\n",
       "    <tr>\n",
       "      <th>6358</th>\n",
       "      <td>1</td>\n",
       "      <td>15</td>\n",
       "      <td>5</td>\n",
       "      <td>0</td>\n",
       "      <td>0</td>\n",
       "      <td>0</td>\n",
       "      <td>0</td>\n",
       "      <td>1</td>\n",
       "      <td>0</td>\n",
       "      <td>0</td>\n",
       "      <td>...</td>\n",
       "      <td>0</td>\n",
       "      <td>0</td>\n",
       "      <td>0</td>\n",
       "      <td>0</td>\n",
       "      <td>0</td>\n",
       "      <td>0</td>\n",
       "      <td>0</td>\n",
       "      <td>1</td>\n",
       "      <td>0</td>\n",
       "      <td>0</td>\n",
       "    </tr>\n",
       "    <tr>\n",
       "      <th>6359</th>\n",
       "      <td>0</td>\n",
       "      <td>17</td>\n",
       "      <td>1</td>\n",
       "      <td>2</td>\n",
       "      <td>0</td>\n",
       "      <td>0</td>\n",
       "      <td>0</td>\n",
       "      <td>0</td>\n",
       "      <td>0</td>\n",
       "      <td>0</td>\n",
       "      <td>...</td>\n",
       "      <td>0</td>\n",
       "      <td>0</td>\n",
       "      <td>0</td>\n",
       "      <td>0</td>\n",
       "      <td>0</td>\n",
       "      <td>0</td>\n",
       "      <td>0</td>\n",
       "      <td>1</td>\n",
       "      <td>0</td>\n",
       "      <td>0</td>\n",
       "    </tr>\n",
       "  </tbody>\n",
       "</table>\n",
       "<p>6360 rows × 50 columns</p>\n",
       "</div>"
      ],
      "text/plain": [
       "      published  title_len  authors_len  title_w_top_50_kw  top_100_inst  \\\n",
       "0             1         13            7                  1             0   \n",
       "1             0          9            3                  1             1   \n",
       "2             0         12           10                  2             0   \n",
       "3             1          7           10                  1             0   \n",
       "4             0          9           13                  1             1   \n",
       "...         ...        ...          ...                ...           ...   \n",
       "6355          1         10            2                  0             0   \n",
       "6356          0         12           13                  1             0   \n",
       "6357          1          3            1                  0             1   \n",
       "6358          1         15            5                  0             0   \n",
       "6359          0         17            1                  2             0   \n",
       "\n",
       "      top_100_auth  category_Biochemistry  category_Bioengineering  \\\n",
       "0                0                      0                        0   \n",
       "1                0                      0                        0   \n",
       "2                1                      0                        0   \n",
       "3                0                      0                        0   \n",
       "4                0                      0                        0   \n",
       "...            ...                    ...                      ...   \n",
       "6355             0                      0                        0   \n",
       "6356             0                      0                        0   \n",
       "6357             0                      0                        0   \n",
       "6358             0                      0                        1   \n",
       "6359             0                      0                        0   \n",
       "\n",
       "      category_Bioinformatics  category_Biophysics  ...  month_May  \\\n",
       "0                           0                    0  ...          0   \n",
       "1                           0                    0  ...          0   \n",
       "2                           0                    0  ...          0   \n",
       "3                           0                    0  ...          0   \n",
       "4                           1                    0  ...          1   \n",
       "...                       ...                  ...  ...        ...   \n",
       "6355                        1                    0  ...          0   \n",
       "6356                        0                    0  ...          0   \n",
       "6357                        0                    0  ...          0   \n",
       "6358                        0                    0  ...          0   \n",
       "6359                        0                    0  ...          0   \n",
       "\n",
       "      month_November  month_October  month_September  day_Monday  \\\n",
       "0                  0              0                0           1   \n",
       "1                  0              0                0           0   \n",
       "2                  0              0                0           0   \n",
       "3                  0              0                0           0   \n",
       "4                  0              0                0           0   \n",
       "...              ...            ...              ...         ...   \n",
       "6355               0              0                0           0   \n",
       "6356               0              0                0           0   \n",
       "6357               0              0                0           0   \n",
       "6358               0              0                0           0   \n",
       "6359               0              0                0           0   \n",
       "\n",
       "      day_Saturday  day_Sunday  day_Thursday  day_Tuesday  day_Wednesday  \n",
       "0                0           0             0            0              0  \n",
       "1                0           0             0            1              0  \n",
       "2                0           0             0            1              0  \n",
       "3                0           0             0            1              0  \n",
       "4                0           0             1            0              0  \n",
       "...            ...         ...           ...          ...            ...  \n",
       "6355             0           0             1            0              0  \n",
       "6356             0           0             1            0              0  \n",
       "6357             0           0             1            0              0  \n",
       "6358             0           0             1            0              0  \n",
       "6359             0           0             1            0              0  \n",
       "\n",
       "[6360 rows x 50 columns]"
      ]
     },
     "execution_count": 577,
     "metadata": {},
     "output_type": "execute_result"
    }
   ],
   "source": [
    "data_reg"
   ]
  },
  {
   "cell_type": "code",
   "execution_count": 531,
   "id": "75ad7230",
   "metadata": {},
   "outputs": [],
   "source": [
    "from sklearn.model_selection import train_test_split"
   ]
  },
  {
   "cell_type": "code",
   "execution_count": 578,
   "id": "407352a2",
   "metadata": {},
   "outputs": [],
   "source": [
    "X_train, X_test, y_train, y_test = train_test_split(data_reg.loc[:, data_reg.columns!='published'], data_reg['published'], \n",
    "                                                    test_size=0.2, random_state=1)"
   ]
  },
  {
   "cell_type": "code",
   "execution_count": 593,
   "id": "8908d04a",
   "metadata": {},
   "outputs": [],
   "source": [
    "from sklearn.linear_model import LogisticRegression\n",
    "lm = LogisticRegression(solver='lbfgs', max_iter=400)"
   ]
  },
  {
   "cell_type": "code",
   "execution_count": 594,
   "id": "daad8811",
   "metadata": {},
   "outputs": [
    {
     "data": {
      "text/plain": [
       "LogisticRegression(max_iter=400)"
      ]
     },
     "execution_count": 594,
     "metadata": {},
     "output_type": "execute_result"
    }
   ],
   "source": [
    "lm.fit(X_train, y_train)"
   ]
  },
  {
   "cell_type": "code",
   "execution_count": 595,
   "id": "c20c88c9",
   "metadata": {},
   "outputs": [],
   "source": [
    "pred = lm.predict(X_test)"
   ]
  },
  {
   "cell_type": "code",
   "execution_count": 596,
   "id": "e7e75d01",
   "metadata": {},
   "outputs": [
    {
     "data": {
      "text/plain": [
       "array([1, 1, 1, ..., 1, 1, 0])"
      ]
     },
     "execution_count": 596,
     "metadata": {},
     "output_type": "execute_result"
    }
   ],
   "source": [
    "pred"
   ]
  },
  {
   "cell_type": "code",
   "execution_count": 603,
   "id": "7eb1883c",
   "metadata": {},
   "outputs": [],
   "source": [
    "from sklearn.metrics import ConfusionMatrixDisplay, accuracy_score, precision_score, recall_score, f1_score"
   ]
  },
  {
   "cell_type": "code",
   "execution_count": 598,
   "id": "fea45710",
   "metadata": {},
   "outputs": [
    {
     "data": {
      "text/plain": [
       "<sklearn.metrics._plot.confusion_matrix.ConfusionMatrixDisplay at 0x7ff05e93fa00>"
      ]
     },
     "execution_count": 598,
     "metadata": {},
     "output_type": "execute_result"
    },
    {
     "data": {
      "image/png": "[encoded data removed]",
      "text/plain": [
       "<Figure size 432x288 with 2 Axes>"
      ]
     },
     "metadata": {
      "needs_background": "light"
     },
     "output_type": "display_data"
    }
   ],
   "source": [
    "ConfusionMatrixDisplay.from_estimator(lm, X_test, y_test)"
   ]
  },
  {
   "cell_type": "code",
   "execution_count": 606,
   "id": "da6dce38",
   "metadata": {},
   "outputs": [
    {
     "name": "stdout",
     "output_type": "stream",
     "text": [
      "Accuracy: 0.6910377358490566\n",
      "Precision: 0.698464025869038\n",
      "Recall: 0.9773755656108597\n",
      "F1 Score: 0.8147100424328146\n"
     ]
    }
   ],
   "source": [
    "print('Accuracy:', accuracy_score(y_test, pred))\n",
    "print('Precision:', precision_score(y_test, pred))\n",
    "print('Recall:', recall_score(y_test, pred))\n",
    "print('F1 Score:', f1_score(y_test, pred))"
   ]
  },
  {
   "cell_type": "code",
   "execution_count": null,
   "id": "6d5151a0",
   "metadata": {},
   "outputs": [],
   "source": []
  }
 ],
 "metadata": {
  "kernelspec": {
   "display_name": "Python 3 (ipykernel)",
   "language": "python",
   "name": "python3"
  },
  "language_info": {
   "codemirror_mode": {
    "name": "ipython",
    "version": 3
   },
   "file_extension": ".py",
   "mimetype": "text/x-python",
   "name": "python",
   "nbconvert_exporter": "python",
   "pygments_lexer": "ipython3",
   "version": "3.9.7"
  }
 },
 "nbformat": 4,
 "nbformat_minor": 5
}
