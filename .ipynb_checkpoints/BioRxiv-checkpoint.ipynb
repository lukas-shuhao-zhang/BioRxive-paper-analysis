{
 "cells": [
  {
   "cell_type": "code",
   "execution_count": 150,
   "id": "7eb34c7f",
   "metadata": {},
   "outputs": [],
   "source": [
    "import requests\n",
    "import json\n",
    "import pandas as pd\n",
    "import matplotlib.pyplot as plt\n",
    "import numpy as np\n",
    "%matplotlib inline"
   ]
  },
  {
   "cell_type": "markdown",
   "id": "8377b4f4",
   "metadata": {},
   "source": [
    "### Retrieving data from BioRxiv api"
   ]
  },
  {
   "cell_type": "markdown",
   "id": "76ca0d5d",
   "metadata": {},
   "source": [
    "biorxiv_data = []\n",
    "for i in range (0, 10000, 100):\n",
    "    response = requests.get(\"https://api.biorxiv.org/details/biorxiv/2015-01-01/2022-01-02/\"+str(i)+\"/json\")\n",
    "    json_data = response.json()\n",
    "    data_to_save = json_data['collection']\n",
    "    biorxiv_data.append(data_to_save)"
   ]
  },
  {
   "cell_type": "markdown",
   "id": "47f30351",
   "metadata": {},
   "source": [
    "with open(\"biorxiv.json\", \"w\") as biorxiv:\n",
    "    json.dump(biorxiv_data, biorxiv, indent = 6) "
   ]
  },
  {
   "cell_type": "markdown",
   "id": "f679de2d",
   "metadata": {},
   "source": [
    "data_df_all = pd.DataFrame()\n",
    "for i in range (len(biorxiv_data)):\n",
    "    data_df_all = pd.concat([data_df_all, pd.json_normalize(biorxiv_data[i])])"
   ]
  },
  {
   "cell_type": "markdown",
   "id": "ac5e509b",
   "metadata": {},
   "source": [
    "### Removing duplicated entries: sorting the data by 'doi' and 'version' and only keep the lastest version if the dois are the same"
   ]
  },
  {
   "cell_type": "code",
   "execution_count": 125,
   "id": "90416b95",
   "metadata": {},
   "outputs": [],
   "source": [
    "data_df = data_df_all.sort_values(by=['doi', 'version'], ascending=[True, False], ignore_index=True)"
   ]
  },
  {
   "cell_type": "code",
   "execution_count": 126,
   "id": "3280074c",
   "metadata": {
    "scrolled": false
   },
   "outputs": [],
   "source": [
    "data_df = data_df_all.drop_duplicates(subset=['doi'], keep='first', ignore_index=True)"
   ]
  },
  {
   "cell_type": "code",
   "execution_count": 127,
   "id": "6da8a25b",
   "metadata": {},
   "outputs": [
    {
     "data": {
      "text/plain": [
       "0"
      ]
     },
     "execution_count": 127,
     "metadata": {},
     "output_type": "execute_result"
    }
   ],
   "source": [
    "data_df.duplicated(subset=['doi']).sum()"
   ]
  },
  {
   "cell_type": "code",
   "execution_count": 128,
   "id": "5e18c099",
   "metadata": {
    "scrolled": false
   },
   "outputs": [
    {
     "data": {
      "text/html": [
       "<div>\n",
       "<style scoped>\n",
       "    .dataframe tbody tr th:only-of-type {\n",
       "        vertical-align: middle;\n",
       "    }\n",
       "\n",
       "    .dataframe tbody tr th {\n",
       "        vertical-align: top;\n",
       "    }\n",
       "\n",
       "    .dataframe thead th {\n",
       "        text-align: right;\n",
       "    }\n",
       "</style>\n",
       "<table border=\"1\" class=\"dataframe\">\n",
       "  <thead>\n",
       "    <tr style=\"text-align: right;\">\n",
       "      <th></th>\n",
       "      <th>doi</th>\n",
       "      <th>title</th>\n",
       "      <th>authors</th>\n",
       "      <th>author_corresponding</th>\n",
       "      <th>author_corresponding_institution</th>\n",
       "      <th>date</th>\n",
       "      <th>version</th>\n",
       "      <th>type</th>\n",
       "      <th>license</th>\n",
       "      <th>category</th>\n",
       "      <th>jatsxml</th>\n",
       "      <th>abstract</th>\n",
       "      <th>published</th>\n",
       "      <th>server</th>\n",
       "    </tr>\n",
       "  </thead>\n",
       "  <tbody>\n",
       "    <tr>\n",
       "      <th>0</th>\n",
       "      <td>10.1101/001685</td>\n",
       "      <td>Stem cells in Nanomia bijuga (Siphonophora), a...</td>\n",
       "      <td>Stefan Siebert;Freya E. Goetz;Samuel H. Church...</td>\n",
       "      <td>Stefan Siebert</td>\n",
       "      <td>Brown University</td>\n",
       "      <td>2015-03-16</td>\n",
       "      <td>2</td>\n",
       "      <td>New Results</td>\n",
       "      <td>cc_by_nc_nd</td>\n",
       "      <td>Developmental Biology</td>\n",
       "      <td>https://www.biorxiv.org/content/early/2015/03/...</td>\n",
       "      <td>BackgroundSiphonophores (Hydrozoa) have unpara...</td>\n",
       "      <td>10.1186/s13227-015-0018-2</td>\n",
       "      <td>biorxiv</td>\n",
       "    </tr>\n",
       "    <tr>\n",
       "      <th>1</th>\n",
       "      <td>10.1101/001016</td>\n",
       "      <td>Predictability of adaptive evolution under the...</td>\n",
       "      <td>Sandeep Venkataram;Diamantis Sellis;Dmitri A P...</td>\n",
       "      <td>Dmitri A Petrov</td>\n",
       "      <td>Stanford University</td>\n",
       "      <td>2015-07-28</td>\n",
       "      <td>4</td>\n",
       "      <td>New Results</td>\n",
       "      <td>cc_by_nc_nd</td>\n",
       "      <td>Evolutionary Biology</td>\n",
       "      <td>https://www.biorxiv.org/content/early/2015/07/...</td>\n",
       "      <td>Predicting the course of evolution is critical...</td>\n",
       "      <td>NA</td>\n",
       "      <td>biorxiv</td>\n",
       "    </tr>\n",
       "    <tr>\n",
       "      <th>2</th>\n",
       "      <td>10.1101/002485</td>\n",
       "      <td>Epistasis within the MHC contributes to the ge...</td>\n",
       "      <td>Ben Goudey;Gad Abraham;Eder Kikianty;Qiao Wang...</td>\n",
       "      <td>Michael Inouye</td>\n",
       "      <td>Centre for Systems Genomics, School of BioScie...</td>\n",
       "      <td>2015-08-11</td>\n",
       "      <td>4</td>\n",
       "      <td>New Results</td>\n",
       "      <td>cc_by</td>\n",
       "      <td>Genomics</td>\n",
       "      <td>https://www.biorxiv.org/content/early/2015/08/...</td>\n",
       "      <td>Epistasis has long been thought to contribute ...</td>\n",
       "      <td>NA</td>\n",
       "      <td>biorxiv</td>\n",
       "    </tr>\n",
       "    <tr>\n",
       "      <th>3</th>\n",
       "      <td>10.1101/002634</td>\n",
       "      <td>mangal - making ecological network analysis si...</td>\n",
       "      <td>Timothée E Poisot;Benjamin Baiser;Jennifer A D...</td>\n",
       "      <td>Timothée E Poisot</td>\n",
       "      <td>Université du Québec à Rimouski</td>\n",
       "      <td>2015-02-24</td>\n",
       "      <td>3</td>\n",
       "      <td>New Results</td>\n",
       "      <td>cc_by</td>\n",
       "      <td>Ecology</td>\n",
       "      <td>https://www.biorxiv.org/content/early/2015/02/...</td>\n",
       "      <td>The study of ecological networks is severely l...</td>\n",
       "      <td>10.1111/ecog.00976</td>\n",
       "      <td>biorxiv</td>\n",
       "    </tr>\n",
       "    <tr>\n",
       "      <th>4</th>\n",
       "      <td>10.1101/002782</td>\n",
       "      <td>Large-scale non-targeted metabolomic profiling...</td>\n",
       "      <td>Andrea Ganna;Tove Fall;Samira Salihovic;Woojoo...</td>\n",
       "      <td>Erik Ingelsson</td>\n",
       "      <td>Uppsala University</td>\n",
       "      <td>2015-05-28</td>\n",
       "      <td>3</td>\n",
       "      <td>New Results</td>\n",
       "      <td>cc_by_nd</td>\n",
       "      <td>Bioinformatics</td>\n",
       "      <td>https://www.biorxiv.org/content/early/2015/05/...</td>\n",
       "      <td>Metabolomic profiling is an emerging technique...</td>\n",
       "      <td>NA</td>\n",
       "      <td>biorxiv</td>\n",
       "    </tr>\n",
       "  </tbody>\n",
       "</table>\n",
       "</div>"
      ],
      "text/plain": [
       "              doi                                              title  \\\n",
       "0  10.1101/001685  Stem cells in Nanomia bijuga (Siphonophora), a...   \n",
       "1  10.1101/001016  Predictability of adaptive evolution under the...   \n",
       "2  10.1101/002485  Epistasis within the MHC contributes to the ge...   \n",
       "3  10.1101/002634  mangal - making ecological network analysis si...   \n",
       "4  10.1101/002782  Large-scale non-targeted metabolomic profiling...   \n",
       "\n",
       "                                             authors author_corresponding  \\\n",
       "0  Stefan Siebert;Freya E. Goetz;Samuel H. Church...       Stefan Siebert   \n",
       "1  Sandeep Venkataram;Diamantis Sellis;Dmitri A P...      Dmitri A Petrov   \n",
       "2  Ben Goudey;Gad Abraham;Eder Kikianty;Qiao Wang...       Michael Inouye   \n",
       "3  Timothée E Poisot;Benjamin Baiser;Jennifer A D...    Timothée E Poisot   \n",
       "4  Andrea Ganna;Tove Fall;Samira Salihovic;Woojoo...       Erik Ingelsson   \n",
       "\n",
       "                    author_corresponding_institution        date version  \\\n",
       "0                                   Brown University  2015-03-16       2   \n",
       "1                                Stanford University  2015-07-28       4   \n",
       "2  Centre for Systems Genomics, School of BioScie...  2015-08-11       4   \n",
       "3                    Université du Québec à Rimouski  2015-02-24       3   \n",
       "4                                 Uppsala University  2015-05-28       3   \n",
       "\n",
       "          type      license                category  \\\n",
       "0  New Results  cc_by_nc_nd  Developmental Biology    \n",
       "1  New Results  cc_by_nc_nd   Evolutionary Biology    \n",
       "2  New Results        cc_by               Genomics    \n",
       "3  New Results        cc_by                Ecology    \n",
       "4  New Results     cc_by_nd         Bioinformatics    \n",
       "\n",
       "                                             jatsxml  \\\n",
       "0  https://www.biorxiv.org/content/early/2015/03/...   \n",
       "1  https://www.biorxiv.org/content/early/2015/07/...   \n",
       "2  https://www.biorxiv.org/content/early/2015/08/...   \n",
       "3  https://www.biorxiv.org/content/early/2015/02/...   \n",
       "4  https://www.biorxiv.org/content/early/2015/05/...   \n",
       "\n",
       "                                            abstract  \\\n",
       "0  BackgroundSiphonophores (Hydrozoa) have unpara...   \n",
       "1  Predicting the course of evolution is critical...   \n",
       "2  Epistasis has long been thought to contribute ...   \n",
       "3  The study of ecological networks is severely l...   \n",
       "4  Metabolomic profiling is an emerging technique...   \n",
       "\n",
       "                   published   server  \n",
       "0  10.1186/s13227-015-0018-2  biorxiv  \n",
       "1                         NA  biorxiv  \n",
       "2                         NA  biorxiv  \n",
       "3         10.1111/ecog.00976  biorxiv  \n",
       "4                         NA  biorxiv  "
      ]
     },
     "execution_count": 128,
     "metadata": {},
     "output_type": "execute_result"
    }
   ],
   "source": [
    "data_df.head()"
   ]
  },
  {
   "cell_type": "markdown",
   "id": "55aa7289",
   "metadata": {},
   "source": [
    "Dropping jatsxml and server columns"
   ]
  },
  {
   "cell_type": "code",
   "execution_count": 367,
   "id": "5f98a981",
   "metadata": {},
   "outputs": [],
   "source": [
    "data_df = data_df.drop(columns=['jatsxml', 'server'])"
   ]
  },
  {
   "cell_type": "code",
   "execution_count": null,
   "id": "e9060af9",
   "metadata": {},
   "outputs": [],
   "source": []
  },
  {
   "cell_type": "code",
   "execution_count": 369,
   "id": "501dc6b9",
   "metadata": {},
   "outputs": [],
   "source": [
    "data_df = data_df.rename(columns={\"published\":\"published_link\"})"
   ]
  },
  {
   "cell_type": "code",
   "execution_count": 371,
   "id": "7f5dd9b2",
   "metadata": {},
   "outputs": [],
   "source": [
    "data_df['published'] = np.where(data_df['published_link'] != 'NA', 1, 0)"
   ]
  },
  {
   "cell_type": "code",
   "execution_count": 372,
   "id": "5f6f15af",
   "metadata": {},
   "outputs": [
    {
     "data": {
      "text/html": [
       "<div>\n",
       "<style scoped>\n",
       "    .dataframe tbody tr th:only-of-type {\n",
       "        vertical-align: middle;\n",
       "    }\n",
       "\n",
       "    .dataframe tbody tr th {\n",
       "        vertical-align: top;\n",
       "    }\n",
       "\n",
       "    .dataframe thead th {\n",
       "        text-align: right;\n",
       "    }\n",
       "</style>\n",
       "<table border=\"1\" class=\"dataframe\">\n",
       "  <thead>\n",
       "    <tr style=\"text-align: right;\">\n",
       "      <th></th>\n",
       "      <th>doi</th>\n",
       "      <th>title</th>\n",
       "      <th>authors</th>\n",
       "      <th>author_corresponding</th>\n",
       "      <th>author_corresponding_institution</th>\n",
       "      <th>date</th>\n",
       "      <th>version</th>\n",
       "      <th>type</th>\n",
       "      <th>license</th>\n",
       "      <th>category</th>\n",
       "      <th>abstract</th>\n",
       "      <th>published_link</th>\n",
       "      <th>published</th>\n",
       "    </tr>\n",
       "  </thead>\n",
       "  <tbody>\n",
       "    <tr>\n",
       "      <th>0</th>\n",
       "      <td>10.1101/001685</td>\n",
       "      <td>Stem cells in Nanomia bijuga (Siphonophora), a...</td>\n",
       "      <td>Stefan Siebert;Freya E. Goetz;Samuel H. Church...</td>\n",
       "      <td>Stefan Siebert</td>\n",
       "      <td>Brown University</td>\n",
       "      <td>2015-03-16</td>\n",
       "      <td>2</td>\n",
       "      <td>New Results</td>\n",
       "      <td>cc_by_nc_nd</td>\n",
       "      <td>Developmental biology</td>\n",
       "      <td>BackgroundSiphonophores (Hydrozoa) have unpara...</td>\n",
       "      <td>10.1186/s13227-015-0018-2</td>\n",
       "      <td>1</td>\n",
       "    </tr>\n",
       "    <tr>\n",
       "      <th>1</th>\n",
       "      <td>10.1101/001016</td>\n",
       "      <td>Predictability of adaptive evolution under the...</td>\n",
       "      <td>Sandeep Venkataram;Diamantis Sellis;Dmitri A P...</td>\n",
       "      <td>Dmitri A Petrov</td>\n",
       "      <td>Stanford University</td>\n",
       "      <td>2015-07-28</td>\n",
       "      <td>4</td>\n",
       "      <td>New Results</td>\n",
       "      <td>cc_by_nc_nd</td>\n",
       "      <td>Evolutionary biology</td>\n",
       "      <td>Predicting the course of evolution is critical...</td>\n",
       "      <td>NA</td>\n",
       "      <td>0</td>\n",
       "    </tr>\n",
       "    <tr>\n",
       "      <th>2</th>\n",
       "      <td>10.1101/002485</td>\n",
       "      <td>Epistasis within the MHC contributes to the ge...</td>\n",
       "      <td>Ben Goudey;Gad Abraham;Eder Kikianty;Qiao Wang...</td>\n",
       "      <td>Michael Inouye</td>\n",
       "      <td>Centre for Systems Genomics, School of BioScie...</td>\n",
       "      <td>2015-08-11</td>\n",
       "      <td>4</td>\n",
       "      <td>New Results</td>\n",
       "      <td>cc_by</td>\n",
       "      <td>Genomics</td>\n",
       "      <td>Epistasis has long been thought to contribute ...</td>\n",
       "      <td>NA</td>\n",
       "      <td>0</td>\n",
       "    </tr>\n",
       "    <tr>\n",
       "      <th>3</th>\n",
       "      <td>10.1101/002634</td>\n",
       "      <td>mangal - making ecological network analysis si...</td>\n",
       "      <td>Timothée E Poisot;Benjamin Baiser;Jennifer A D...</td>\n",
       "      <td>Timothée E Poisot</td>\n",
       "      <td>Université du Québec à Rimouski</td>\n",
       "      <td>2015-02-24</td>\n",
       "      <td>3</td>\n",
       "      <td>New Results</td>\n",
       "      <td>cc_by</td>\n",
       "      <td>Ecology</td>\n",
       "      <td>The study of ecological networks is severely l...</td>\n",
       "      <td>10.1111/ecog.00976</td>\n",
       "      <td>1</td>\n",
       "    </tr>\n",
       "    <tr>\n",
       "      <th>4</th>\n",
       "      <td>10.1101/002782</td>\n",
       "      <td>Large-scale non-targeted metabolomic profiling...</td>\n",
       "      <td>Andrea Ganna;Tove Fall;Samira Salihovic;Woojoo...</td>\n",
       "      <td>Erik Ingelsson</td>\n",
       "      <td>Uppsala University</td>\n",
       "      <td>2015-05-28</td>\n",
       "      <td>3</td>\n",
       "      <td>New Results</td>\n",
       "      <td>cc_by_nd</td>\n",
       "      <td>Bioinformatics</td>\n",
       "      <td>Metabolomic profiling is an emerging technique...</td>\n",
       "      <td>NA</td>\n",
       "      <td>0</td>\n",
       "    </tr>\n",
       "  </tbody>\n",
       "</table>\n",
       "</div>"
      ],
      "text/plain": [
       "              doi                                              title  \\\n",
       "0  10.1101/001685  Stem cells in Nanomia bijuga (Siphonophora), a...   \n",
       "1  10.1101/001016  Predictability of adaptive evolution under the...   \n",
       "2  10.1101/002485  Epistasis within the MHC contributes to the ge...   \n",
       "3  10.1101/002634  mangal - making ecological network analysis si...   \n",
       "4  10.1101/002782  Large-scale non-targeted metabolomic profiling...   \n",
       "\n",
       "                                             authors author_corresponding  \\\n",
       "0  Stefan Siebert;Freya E. Goetz;Samuel H. Church...       Stefan Siebert   \n",
       "1  Sandeep Venkataram;Diamantis Sellis;Dmitri A P...      Dmitri A Petrov   \n",
       "2  Ben Goudey;Gad Abraham;Eder Kikianty;Qiao Wang...       Michael Inouye   \n",
       "3  Timothée E Poisot;Benjamin Baiser;Jennifer A D...    Timothée E Poisot   \n",
       "4  Andrea Ganna;Tove Fall;Samira Salihovic;Woojoo...       Erik Ingelsson   \n",
       "\n",
       "                    author_corresponding_institution        date version  \\\n",
       "0                                   Brown University  2015-03-16       2   \n",
       "1                                Stanford University  2015-07-28       4   \n",
       "2  Centre for Systems Genomics, School of BioScie...  2015-08-11       4   \n",
       "3                    Université du Québec à Rimouski  2015-02-24       3   \n",
       "4                                 Uppsala University  2015-05-28       3   \n",
       "\n",
       "          type      license               category  \\\n",
       "0  New Results  cc_by_nc_nd  Developmental biology   \n",
       "1  New Results  cc_by_nc_nd   Evolutionary biology   \n",
       "2  New Results        cc_by               Genomics   \n",
       "3  New Results        cc_by                Ecology   \n",
       "4  New Results     cc_by_nd         Bioinformatics   \n",
       "\n",
       "                                            abstract  \\\n",
       "0  BackgroundSiphonophores (Hydrozoa) have unpara...   \n",
       "1  Predicting the course of evolution is critical...   \n",
       "2  Epistasis has long been thought to contribute ...   \n",
       "3  The study of ecological networks is severely l...   \n",
       "4  Metabolomic profiling is an emerging technique...   \n",
       "\n",
       "              published_link  published  \n",
       "0  10.1186/s13227-015-0018-2          1  \n",
       "1                         NA          0  \n",
       "2                         NA          0  \n",
       "3         10.1111/ecog.00976          1  \n",
       "4                         NA          0  "
      ]
     },
     "execution_count": 372,
     "metadata": {},
     "output_type": "execute_result"
    }
   ],
   "source": [
    "data_df.head()"
   ]
  },
  {
   "cell_type": "markdown",
   "id": "c171c733",
   "metadata": {},
   "source": [
    "### Some of the category names are in all lower case, here we capitalize the first letter of all the category names, and make sure there are no leading or trailing spaces"
   ]
  },
  {
   "cell_type": "code",
   "execution_count": 373,
   "id": "2356178a",
   "metadata": {},
   "outputs": [],
   "source": [
    "data_df = data_df.copy().dropna()"
   ]
  },
  {
   "cell_type": "code",
   "execution_count": 374,
   "id": "d76d7545",
   "metadata": {},
   "outputs": [],
   "source": [
    "data_df['category'] = data_df['category'].str.capitalize().str.strip()"
   ]
  },
  {
   "cell_type": "code",
   "execution_count": 375,
   "id": "f408922d",
   "metadata": {},
   "outputs": [],
   "source": [
    "data_df.loc[data_df['category'] == '', 'category'] = 'Other'"
   ]
  },
  {
   "cell_type": "code",
   "execution_count": 376,
   "id": "ad88b734",
   "metadata": {},
   "outputs": [],
   "source": [
    "published_df = data_df[data_df['published'] == 1].reset_index(drop=True)"
   ]
  },
  {
   "cell_type": "code",
   "execution_count": 377,
   "id": "36c622be",
   "metadata": {},
   "outputs": [],
   "source": [
    "unpublished_df = data_df[data_df['published'] == 0].reset_index(drop=True)"
   ]
  },
  {
   "cell_type": "markdown",
   "id": "4745b4de",
   "metadata": {},
   "source": [
    "### Category counts"
   ]
  },
  {
   "cell_type": "code",
   "execution_count": 378,
   "id": "b30f9402",
   "metadata": {
    "scrolled": false
   },
   "outputs": [
    {
     "data": {
      "image/png": "[encoded data removed]",
      "text/plain": [
       "<Figure size 1080x720 with 1 Axes>"
      ]
     },
     "metadata": {
      "needs_background": "light"
     },
     "output_type": "display_data"
    }
   ],
   "source": [
    "# Plotting the number of published papers in each category\n",
    "plt.figure(figsize=(15,10))\n",
    "height=published_df.groupby('category')['doi'].count().sort_values().plot(kind='barh')\n",
    "plt.title('Published BioRxiv papers by category')\n",
    "plt.show()"
   ]
  },
  {
   "cell_type": "markdown",
   "id": "90ae2277",
   "metadata": {},
   "source": [
    "### Exploring titles to find the most frequently used words"
   ]
  },
  {
   "cell_type": "code",
   "execution_count": 212,
   "id": "99e8fee5",
   "metadata": {},
   "outputs": [],
   "source": [
    "from nltk.corpus import stopwords\n",
    "s=set(stopwords.words('english'))"
   ]
  },
  {
   "cell_type": "code",
   "execution_count": 416,
   "id": "9b66afca",
   "metadata": {},
   "outputs": [],
   "source": [
    "s.update(['data', 'using', 'analysis', 'show', 'also', 'two', 'used', 'reveals'])"
   ]
  },
  {
   "cell_type": "code",
   "execution_count": 417,
   "id": "4eae83e9",
   "metadata": {},
   "outputs": [],
   "source": [
    "title_words = pd.Series(x.split() for x in published_df['title']).explode().str.lower()\n",
    "\n",
    "# Removing common stopwords from the title word list\n",
    "title_words_clean = pd.Series(word for word in title_words if word not in s).value_counts()"
   ]
  },
  {
   "cell_type": "code",
   "execution_count": 463,
   "id": "75ab96bd",
   "metadata": {},
   "outputs": [
    {
     "data": {
      "text/plain": [
       "11273"
      ]
     },
     "execution_count": 463,
     "metadata": {},
     "output_type": "execute_result"
    }
   ],
   "source": [
    "len(title_words_clean)"
   ]
  },
  {
   "cell_type": "markdown",
   "id": "906a7e9f",
   "metadata": {},
   "source": [
    "### Exploring abstracts to find the most frequently used words"
   ]
  },
  {
   "cell_type": "code",
   "execution_count": 419,
   "id": "9eecad8b",
   "metadata": {},
   "outputs": [],
   "source": [
    "abs_words = pd.Series(x.split() for x in published_df['abstract']).explode().str.lower()\n",
    "\n",
    "# Removing common stopwords from the title word list\n",
    "abs_words_clean = pd.Series(word for word in abs_words if word not in s).value_counts()"
   ]
  },
  {
   "cell_type": "code",
   "execution_count": 421,
   "id": "944eafdc",
   "metadata": {},
   "outputs": [
    {
     "data": {
      "text/plain": [
       "<AxesSubplot:>"
      ]
     },
     "execution_count": 421,
     "metadata": {},
     "output_type": "execute_result"
    },
    {
     "data": {
      "image/png": "[encoded data removed]",
      "text/plain": [
       "<Figure size 432x288 with 1 Axes>"
      ]
     },
     "metadata": {
      "needs_background": "light"
     },
     "output_type": "display_data"
    }
   ],
   "source": [
    "abs_words_clean[0:20].sort_values().plot(kind = 'barh')"
   ]
  },
  {
   "cell_type": "code",
   "execution_count": 469,
   "id": "14a2330e",
   "metadata": {},
   "outputs": [
    {
     "data": {
      "text/plain": [
       "<AxesSubplot:>"
      ]
     },
     "execution_count": 469,
     "metadata": {},
     "output_type": "execute_result"
    },
    {
     "data": {
      "image/png": "[encoded data removed]",
      "text/plain": [
       "<Figure size 432x288 with 1 Axes>"
      ]
     },
     "metadata": {
      "needs_background": "light"
     },
     "output_type": "display_data"
    }
   ],
   "source": [
    "published_df['author_corresponding_institution'].value_counts()[0:20].plot.barh()"
   ]
  },
  {
   "cell_type": "code",
   "execution_count": 475,
   "id": "0c77d368",
   "metadata": {
    "scrolled": true
   },
   "outputs": [
    {
     "data": {
      "text/plain": [
       "Stanford University                          63\n",
       "Harvard University                           57\n",
       "University of Cambridge                      48\n",
       "University of Edinburgh                      47\n",
       "University of Washington                     45\n",
       "                                             ..\n",
       "University of Manchester                      7\n",
       "The Sainsbury Laboratory                      7\n",
       "Harvard T.H. Chan School of Public Health     7\n",
       "University of Warwick                         7\n",
       "Stanford University School of Medicine        7\n",
       "Name: author_corresponding_institution, Length: 101, dtype: int64"
      ]
     },
     "execution_count": 475,
     "metadata": {},
     "output_type": "execute_result"
    }
   ],
   "source": [
    "published_df['author_corresponding_institution'].value_counts()[0:101]"
   ]
  },
  {
   "cell_type": "code",
   "execution_count": 480,
   "id": "11e14346",
   "metadata": {},
   "outputs": [
    {
     "data": {
      "text/plain": [
       "Casey S Greene         8\n",
       "Thierry Mora           8\n",
       "Sophien Kamoun         7\n",
       "Dave Thirumalai        7\n",
       "Eduardo Eyras          7\n",
       "                      ..\n",
       "Julius B Lucks         3\n",
       "Tandy Warnow           3\n",
       "Nathaniel C. Wright    3\n",
       "Hae Kyung Im           3\n",
       "Christopher Yau        3\n",
       "Name: author_corresponding, Length: 101, dtype: int64"
      ]
     },
     "execution_count": 480,
     "metadata": {},
     "output_type": "execute_result"
    }
   ],
   "source": [
    "published_df['author_corresponding'].value_counts()[0:101]"
   ]
  },
  {
   "cell_type": "markdown",
   "id": "9c394ed6",
   "metadata": {},
   "source": [
    "### Retrieving citation counts for each published article using the Scopus API"
   ]
  },
  {
   "cell_type": "code",
   "execution_count": 342,
   "id": "97359709",
   "metadata": {},
   "outputs": [],
   "source": [
    "from datetime import timedelta\n",
    "from ratelimit import limits, sleep_and_retry\n",
    "import requests\n",
    "\n",
    "@sleep_and_retry\n",
    "@limits(calls=10, period=timedelta(seconds=5).total_seconds())\n",
    "\n",
    "def get_citation():\n",
    "    for i in range (0, published_df.shape[0]):\n",
    "        doi = published_df['published'][i]\n",
    "        query=\"DOI(\"+doi+\")&field=citedby-count\"\n",
    "        response = requests.get(\"https://api.elsevier.com/content/search/scopus?query=\"+query, headers = headers)\n",
    "        if('error' in response.json()['search-results']['entry'][0].keys()):\n",
    "            published_df.loc[i, ('citation_count')] = 0\n",
    "        else: \n",
    "            published_df.loc[i, ('citation_count')] = int(response.json()['search-results']['entry'][0]['citedby-count'])\n",
    "        \n",
    "        response.raise_for_status()"
   ]
  },
  {
   "cell_type": "code",
   "execution_count": 343,
   "id": "a49e0cbb",
   "metadata": {},
   "outputs": [],
   "source": [
    "#get_citation()"
   ]
  },
  {
   "cell_type": "code",
   "execution_count": 379,
   "id": "7c3a327b",
   "metadata": {},
   "outputs": [
    {
     "ename": "KeyError",
     "evalue": "'citation_count'",
     "output_type": "error",
     "traceback": [
      "\u001b[0;31m---------------------------------------------------------------------------\u001b[0m",
      "\u001b[0;31mKeyError\u001b[0m                                  Traceback (most recent call last)",
      "File \u001b[0;32m~/opt/anaconda3/lib/python3.9/site-packages/pandas/core/indexes/base.py:3621\u001b[0m, in \u001b[0;36mIndex.get_loc\u001b[0;34m(self, key, method, tolerance)\u001b[0m\n\u001b[1;32m   3620\u001b[0m \u001b[38;5;28;01mtry\u001b[39;00m:\n\u001b[0;32m-> 3621\u001b[0m     \u001b[38;5;28;01mreturn\u001b[39;00m \u001b[38;5;28;43mself\u001b[39;49m\u001b[38;5;241;43m.\u001b[39;49m\u001b[43m_engine\u001b[49m\u001b[38;5;241;43m.\u001b[39;49m\u001b[43mget_loc\u001b[49m\u001b[43m(\u001b[49m\u001b[43mcasted_key\u001b[49m\u001b[43m)\u001b[49m\n\u001b[1;32m   3622\u001b[0m \u001b[38;5;28;01mexcept\u001b[39;00m \u001b[38;5;167;01mKeyError\u001b[39;00m \u001b[38;5;28;01mas\u001b[39;00m err:\n",
      "File \u001b[0;32m~/opt/anaconda3/lib/python3.9/site-packages/pandas/_libs/index.pyx:136\u001b[0m, in \u001b[0;36mpandas._libs.index.IndexEngine.get_loc\u001b[0;34m()\u001b[0m\n",
      "File \u001b[0;32m~/opt/anaconda3/lib/python3.9/site-packages/pandas/_libs/index.pyx:163\u001b[0m, in \u001b[0;36mpandas._libs.index.IndexEngine.get_loc\u001b[0;34m()\u001b[0m\n",
      "File \u001b[0;32mpandas/_libs/hashtable_class_helper.pxi:5198\u001b[0m, in \u001b[0;36mpandas._libs.hashtable.PyObjectHashTable.get_item\u001b[0;34m()\u001b[0m\n",
      "File \u001b[0;32mpandas/_libs/hashtable_class_helper.pxi:5206\u001b[0m, in \u001b[0;36mpandas._libs.hashtable.PyObjectHashTable.get_item\u001b[0;34m()\u001b[0m\n",
      "\u001b[0;31mKeyError\u001b[0m: 'citation_count'",
      "\nThe above exception was the direct cause of the following exception:\n",
      "\u001b[0;31mKeyError\u001b[0m                                  Traceback (most recent call last)",
      "Input \u001b[0;32mIn [379]\u001b[0m, in \u001b[0;36m<cell line: 1>\u001b[0;34m()\u001b[0m\n\u001b[0;32m----> 1\u001b[0m \u001b[43mpublished_df\u001b[49m\u001b[43m[\u001b[49m\u001b[38;5;124;43m'\u001b[39;49m\u001b[38;5;124;43mcitation_count\u001b[39;49m\u001b[38;5;124;43m'\u001b[39;49m\u001b[43m]\u001b[49m\u001b[38;5;241m.\u001b[39mvalue_counts()\u001b[38;5;241m.\u001b[39mplot\u001b[38;5;241m.\u001b[39mhist(bins \u001b[38;5;241m=\u001b[39m \u001b[38;5;241m15\u001b[39m)\n",
      "File \u001b[0;32m~/opt/anaconda3/lib/python3.9/site-packages/pandas/core/frame.py:3505\u001b[0m, in \u001b[0;36mDataFrame.__getitem__\u001b[0;34m(self, key)\u001b[0m\n\u001b[1;32m   3503\u001b[0m \u001b[38;5;28;01mif\u001b[39;00m \u001b[38;5;28mself\u001b[39m\u001b[38;5;241m.\u001b[39mcolumns\u001b[38;5;241m.\u001b[39mnlevels \u001b[38;5;241m>\u001b[39m \u001b[38;5;241m1\u001b[39m:\n\u001b[1;32m   3504\u001b[0m     \u001b[38;5;28;01mreturn\u001b[39;00m \u001b[38;5;28mself\u001b[39m\u001b[38;5;241m.\u001b[39m_getitem_multilevel(key)\n\u001b[0;32m-> 3505\u001b[0m indexer \u001b[38;5;241m=\u001b[39m \u001b[38;5;28;43mself\u001b[39;49m\u001b[38;5;241;43m.\u001b[39;49m\u001b[43mcolumns\u001b[49m\u001b[38;5;241;43m.\u001b[39;49m\u001b[43mget_loc\u001b[49m\u001b[43m(\u001b[49m\u001b[43mkey\u001b[49m\u001b[43m)\u001b[49m\n\u001b[1;32m   3506\u001b[0m \u001b[38;5;28;01mif\u001b[39;00m is_integer(indexer):\n\u001b[1;32m   3507\u001b[0m     indexer \u001b[38;5;241m=\u001b[39m [indexer]\n",
      "File \u001b[0;32m~/opt/anaconda3/lib/python3.9/site-packages/pandas/core/indexes/base.py:3623\u001b[0m, in \u001b[0;36mIndex.get_loc\u001b[0;34m(self, key, method, tolerance)\u001b[0m\n\u001b[1;32m   3621\u001b[0m     \u001b[38;5;28;01mreturn\u001b[39;00m \u001b[38;5;28mself\u001b[39m\u001b[38;5;241m.\u001b[39m_engine\u001b[38;5;241m.\u001b[39mget_loc(casted_key)\n\u001b[1;32m   3622\u001b[0m \u001b[38;5;28;01mexcept\u001b[39;00m \u001b[38;5;167;01mKeyError\u001b[39;00m \u001b[38;5;28;01mas\u001b[39;00m err:\n\u001b[0;32m-> 3623\u001b[0m     \u001b[38;5;28;01mraise\u001b[39;00m \u001b[38;5;167;01mKeyError\u001b[39;00m(key) \u001b[38;5;28;01mfrom\u001b[39;00m \u001b[38;5;21;01merr\u001b[39;00m\n\u001b[1;32m   3624\u001b[0m \u001b[38;5;28;01mexcept\u001b[39;00m \u001b[38;5;167;01mTypeError\u001b[39;00m:\n\u001b[1;32m   3625\u001b[0m     \u001b[38;5;66;03m# If we have a listlike key, _check_indexing_error will raise\u001b[39;00m\n\u001b[1;32m   3626\u001b[0m     \u001b[38;5;66;03m#  InvalidIndexError. Otherwise we fall through and re-raise\u001b[39;00m\n\u001b[1;32m   3627\u001b[0m     \u001b[38;5;66;03m#  the TypeError.\u001b[39;00m\n\u001b[1;32m   3628\u001b[0m     \u001b[38;5;28mself\u001b[39m\u001b[38;5;241m.\u001b[39m_check_indexing_error(key)\n",
      "\u001b[0;31mKeyError\u001b[0m: 'citation_count'"
     ]
    }
   ],
   "source": [
    "published_df['citation_count'].value_counts().plot.hist(bins = 15)"
   ]
  },
  {
   "cell_type": "code",
   "execution_count": 347,
   "id": "c2c2f7d3",
   "metadata": {},
   "outputs": [],
   "source": [
    "#published_df.to_csv('published_df.csv')"
   ]
  },
  {
   "cell_type": "code",
   "execution_count": 357,
   "id": "fa89bafd",
   "metadata": {},
   "outputs": [
    {
     "data": {
      "text/html": [
       "<div>\n",
       "<style scoped>\n",
       "    .dataframe tbody tr th:only-of-type {\n",
       "        vertical-align: middle;\n",
       "    }\n",
       "\n",
       "    .dataframe tbody tr th {\n",
       "        vertical-align: top;\n",
       "    }\n",
       "\n",
       "    .dataframe thead th {\n",
       "        text-align: right;\n",
       "    }\n",
       "</style>\n",
       "<table border=\"1\" class=\"dataframe\">\n",
       "  <thead>\n",
       "    <tr style=\"text-align: right;\">\n",
       "      <th></th>\n",
       "      <th>doi</th>\n",
       "      <th>title</th>\n",
       "      <th>authors</th>\n",
       "      <th>author_corresponding</th>\n",
       "      <th>author_corresponding_institution</th>\n",
       "      <th>date</th>\n",
       "      <th>version</th>\n",
       "      <th>type</th>\n",
       "      <th>license</th>\n",
       "      <th>category</th>\n",
       "      <th>jatsxml</th>\n",
       "      <th>abstract</th>\n",
       "      <th>published</th>\n",
       "      <th>server</th>\n",
       "      <th>citation_count</th>\n",
       "    </tr>\n",
       "  </thead>\n",
       "  <tbody>\n",
       "    <tr>\n",
       "      <th>702</th>\n",
       "      <td>10.1101/024034</td>\n",
       "      <td>DADA2: High resolution sample inference from a...</td>\n",
       "      <td>Benjamin J Callahan;Paul J McMurdie;Michael J ...</td>\n",
       "      <td>Benjamin J Callahan</td>\n",
       "      <td>Stanford University</td>\n",
       "      <td>2015-08-06</td>\n",
       "      <td>1</td>\n",
       "      <td>New Results</td>\n",
       "      <td>cc_by_nc_nd</td>\n",
       "      <td>Bioinformatics</td>\n",
       "      <td>https://www.biorxiv.org/content/early/2015/08/...</td>\n",
       "      <td>Microbial communities are commonly characteriz...</td>\n",
       "      <td>10.1038/nmeth.3869</td>\n",
       "      <td>biorxiv</td>\n",
       "      <td>6616</td>\n",
       "    </tr>\n",
       "  </tbody>\n",
       "</table>\n",
       "</div>"
      ],
      "text/plain": [
       "                doi                                              title  \\\n",
       "702  10.1101/024034  DADA2: High resolution sample inference from a...   \n",
       "\n",
       "                                               authors author_corresponding  \\\n",
       "702  Benjamin J Callahan;Paul J McMurdie;Michael J ...  Benjamin J Callahan   \n",
       "\n",
       "    author_corresponding_institution        date version         type  \\\n",
       "702              Stanford University  2015-08-06       1  New Results   \n",
       "\n",
       "         license        category  \\\n",
       "702  cc_by_nc_nd  Bioinformatics   \n",
       "\n",
       "                                               jatsxml  \\\n",
       "702  https://www.biorxiv.org/content/early/2015/08/...   \n",
       "\n",
       "                                              abstract           published  \\\n",
       "702  Microbial communities are commonly characteriz...  10.1038/nmeth.3869   \n",
       "\n",
       "      server  citation_count  \n",
       "702  biorxiv            6616  "
      ]
     },
     "execution_count": 357,
     "metadata": {},
     "output_type": "execute_result"
    }
   ],
   "source": [
    "published_df[published_df['citation_count'] == published_df['citation_count'].max()]"
   ]
  },
  {
   "cell_type": "code",
   "execution_count": null,
   "id": "4137086c",
   "metadata": {},
   "outputs": [],
   "source": []
  },
  {
   "cell_type": "code",
   "execution_count": 561,
   "id": "e7ca3a8b",
   "metadata": {},
   "outputs": [],
   "source": [
    "data_reg = data_df.copy()"
   ]
  },
  {
   "cell_type": "code",
   "execution_count": 562,
   "id": "c662af47",
   "metadata": {},
   "outputs": [],
   "source": [
    "data_reg['title_len'] = data_reg['title'].apply(lambda x: len(x.split()))"
   ]
  },
  {
   "cell_type": "code",
   "execution_count": 563,
   "id": "99df1187",
   "metadata": {},
   "outputs": [],
   "source": [
    "data_reg['authors_len'] = data_reg['authors'].apply(lambda x: len(x.split(';'))-1)"
   ]
  },
  {
   "cell_type": "code",
   "execution_count": 564,
   "id": "b527942d",
   "metadata": {},
   "outputs": [],
   "source": [
    "data_reg['title_w_top_50_kw'] = data_reg['title'].apply(lambda x: sum(el in title_words_clean[0:50] for el in x.split()))"
   ]
  },
  {
   "cell_type": "code",
   "execution_count": 565,
   "id": "8bf48639",
   "metadata": {},
   "outputs": [],
   "source": [
    "data_reg['top_100_inst'] = data_reg['author_corresponding_institution'].apply(lambda x: 1 if x in published_df['author_corresponding_institution'].value_counts()[0:101] else 0)"
   ]
  },
  {
   "cell_type": "code",
   "execution_count": 566,
   "id": "7eeb88b4",
   "metadata": {},
   "outputs": [],
   "source": [
    "data_reg['top_100_auth'] = data_reg['author_corresponding'].apply(lambda x: 1 if x in published_df['author_corresponding'].value_counts()[0:101] else 0)"
   ]
  },
  {
   "cell_type": "code",
   "execution_count": 567,
   "id": "f17c7257",
   "metadata": {},
   "outputs": [],
   "source": [
    "data_reg['date'] = pd.to_datetime(data_reg['date'])"
   ]
  },
  {
   "cell_type": "code",
   "execution_count": 568,
   "id": "dddf92fd",
   "metadata": {},
   "outputs": [],
   "source": [
    "data_reg['month'] = data_reg['date'].dt.month_name()"
   ]
  },
  {
   "cell_type": "code",
   "execution_count": 569,
   "id": "c72275d6",
   "metadata": {},
   "outputs": [],
   "source": [
    "data_reg['day'] = data_reg['date'].dt.day_name()"
   ]
  },
  {
   "cell_type": "code",
   "execution_count": 573,
   "id": "62e8cdcf",
   "metadata": {},
   "outputs": [],
   "source": [
    "data_reg = pd.get_dummies(data=data_reg, columns=['category', 'month','day'], drop_first=True)"
   ]
  },
  {
   "cell_type": "code",
   "execution_count": 529,
   "id": "15f955ce",
   "metadata": {},
   "outputs": [],
   "source": [
    "data_reg = data_reg.drop(columns=['doi', 'title', 'authors', 'author_corresponding', 'author_corresponding_institution',\n",
    "                       'date','version', 'type', 'license', 'category', 'abstract', 'published_link', 'month', 'day'])"
   ]
  },
  {
   "cell_type": "code",
   "execution_count": 559,
   "id": "4d1a5d47",
   "metadata": {},
   "outputs": [
    {
     "data": {
      "text/html": [
       "<div>\n",
       "<style scoped>\n",
       "    .dataframe tbody tr th:only-of-type {\n",
       "        vertical-align: middle;\n",
       "    }\n",
       "\n",
       "    .dataframe tbody tr th {\n",
       "        vertical-align: top;\n",
       "    }\n",
       "\n",
       "    .dataframe thead th {\n",
       "        text-align: right;\n",
       "    }\n",
       "</style>\n",
       "<table border=\"1\" class=\"dataframe\">\n",
       "  <thead>\n",
       "    <tr style=\"text-align: right;\">\n",
       "      <th></th>\n",
       "      <th>published</th>\n",
       "      <th>published</th>\n",
       "    </tr>\n",
       "  </thead>\n",
       "  <tbody>\n",
       "    <tr>\n",
       "      <th>0</th>\n",
       "      <td>1</td>\n",
       "      <td>1</td>\n",
       "    </tr>\n",
       "    <tr>\n",
       "      <th>1</th>\n",
       "      <td>0</td>\n",
       "      <td>0</td>\n",
       "    </tr>\n",
       "    <tr>\n",
       "      <th>2</th>\n",
       "      <td>0</td>\n",
       "      <td>0</td>\n",
       "    </tr>\n",
       "    <tr>\n",
       "      <th>3</th>\n",
       "      <td>1</td>\n",
       "      <td>1</td>\n",
       "    </tr>\n",
       "    <tr>\n",
       "      <th>4</th>\n",
       "      <td>0</td>\n",
       "      <td>0</td>\n",
       "    </tr>\n",
       "    <tr>\n",
       "      <th>...</th>\n",
       "      <td>...</td>\n",
       "      <td>...</td>\n",
       "    </tr>\n",
       "    <tr>\n",
       "      <th>6355</th>\n",
       "      <td>1</td>\n",
       "      <td>1</td>\n",
       "    </tr>\n",
       "    <tr>\n",
       "      <th>6356</th>\n",
       "      <td>0</td>\n",
       "      <td>0</td>\n",
       "    </tr>\n",
       "    <tr>\n",
       "      <th>6357</th>\n",
       "      <td>1</td>\n",
       "      <td>1</td>\n",
       "    </tr>\n",
       "    <tr>\n",
       "      <th>6358</th>\n",
       "      <td>1</td>\n",
       "      <td>1</td>\n",
       "    </tr>\n",
       "    <tr>\n",
       "      <th>6359</th>\n",
       "      <td>0</td>\n",
       "      <td>0</td>\n",
       "    </tr>\n",
       "  </tbody>\n",
       "</table>\n",
       "<p>6360 rows × 2 columns</p>\n",
       "</div>"
      ],
      "text/plain": [
       "      published  published\n",
       "0             1          1\n",
       "1             0          0\n",
       "2             0          0\n",
       "3             1          1\n",
       "4             0          0\n",
       "...         ...        ...\n",
       "6355          1          1\n",
       "6356          0          0\n",
       "6357          1          1\n",
       "6358          1          1\n",
       "6359          0          0\n",
       "\n",
       "[6360 rows x 2 columns]"
      ]
     },
     "execution_count": 559,
     "metadata": {},
     "output_type": "execute_result"
    }
   ],
   "source": [
    "data_reg['published']"
   ]
  },
  {
   "cell_type": "code",
   "execution_count": 531,
   "id": "4229532b",
   "metadata": {},
   "outputs": [],
   "source": [
    "from sklearn.model_selection import train_test_split"
   ]
  },
  {
   "cell_type": "code",
   "execution_count": 533,
   "id": "29c0fc10",
   "metadata": {},
   "outputs": [],
   "source": [
    "X_train, X_test, y_train, y_test = train_test_split(data_reg.loc[:, data_reg.columns!='published'], data_reg['published'], \n",
    "                                                    test_size=0.2, random_state=1)"
   ]
  },
  {
   "cell_type": "code",
   "execution_count": 540,
   "id": "c393c3b9",
   "metadata": {},
   "outputs": [
    {
     "data": {
      "text/html": [
       "<div>\n",
       "<style scoped>\n",
       "    .dataframe tbody tr th:only-of-type {\n",
       "        vertical-align: middle;\n",
       "    }\n",
       "\n",
       "    .dataframe tbody tr th {\n",
       "        vertical-align: top;\n",
       "    }\n",
       "\n",
       "    .dataframe thead th {\n",
       "        text-align: right;\n",
       "    }\n",
       "</style>\n",
       "<table border=\"1\" class=\"dataframe\">\n",
       "  <thead>\n",
       "    <tr style=\"text-align: right;\">\n",
       "      <th></th>\n",
       "      <th>published</th>\n",
       "      <th>published</th>\n",
       "    </tr>\n",
       "  </thead>\n",
       "  <tbody>\n",
       "    <tr>\n",
       "      <th>6145</th>\n",
       "      <td>1</td>\n",
       "      <td>1</td>\n",
       "    </tr>\n",
       "    <tr>\n",
       "      <th>1549</th>\n",
       "      <td>0</td>\n",
       "      <td>0</td>\n",
       "    </tr>\n",
       "    <tr>\n",
       "      <th>3687</th>\n",
       "      <td>0</td>\n",
       "      <td>0</td>\n",
       "    </tr>\n",
       "    <tr>\n",
       "      <th>6171</th>\n",
       "      <td>0</td>\n",
       "      <td>0</td>\n",
       "    </tr>\n",
       "    <tr>\n",
       "      <th>4358</th>\n",
       "      <td>1</td>\n",
       "      <td>1</td>\n",
       "    </tr>\n",
       "    <tr>\n",
       "      <th>...</th>\n",
       "      <td>...</td>\n",
       "      <td>...</td>\n",
       "    </tr>\n",
       "    <tr>\n",
       "      <th>639</th>\n",
       "      <td>1</td>\n",
       "      <td>1</td>\n",
       "    </tr>\n",
       "    <tr>\n",
       "      <th>5129</th>\n",
       "      <td>0</td>\n",
       "      <td>0</td>\n",
       "    </tr>\n",
       "    <tr>\n",
       "      <th>2498</th>\n",
       "      <td>0</td>\n",
       "      <td>0</td>\n",
       "    </tr>\n",
       "    <tr>\n",
       "      <th>4049</th>\n",
       "      <td>1</td>\n",
       "      <td>1</td>\n",
       "    </tr>\n",
       "    <tr>\n",
       "      <th>5976</th>\n",
       "      <td>0</td>\n",
       "      <td>0</td>\n",
       "    </tr>\n",
       "  </tbody>\n",
       "</table>\n",
       "<p>1272 rows × 2 columns</p>\n",
       "</div>"
      ],
      "text/plain": [
       "      published  published\n",
       "6145          1          1\n",
       "1549          0          0\n",
       "3687          0          0\n",
       "6171          0          0\n",
       "4358          1          1\n",
       "...         ...        ...\n",
       "639           1          1\n",
       "5129          0          0\n",
       "2498          0          0\n",
       "4049          1          1\n",
       "5976          0          0\n",
       "\n",
       "[1272 rows x 2 columns]"
      ]
     },
     "execution_count": 540,
     "metadata": {},
     "output_type": "execute_result"
    }
   ],
   "source": [
    "y_test"
   ]
  },
  {
   "cell_type": "code",
   "execution_count": 535,
   "id": "e717f728",
   "metadata": {},
   "outputs": [],
   "source": [
    "from sklearn.linear_model import LinearRegression\n",
    "lm = LinearRegression()"
   ]
  },
  {
   "cell_type": "code",
   "execution_count": 536,
   "id": "92095e0c",
   "metadata": {},
   "outputs": [
    {
     "data": {
      "text/plain": [
       "LinearRegression()"
      ]
     },
     "execution_count": 536,
     "metadata": {},
     "output_type": "execute_result"
    }
   ],
   "source": [
    "lm.fit(X_train, y_train)"
   ]
  },
  {
   "cell_type": "code",
   "execution_count": 537,
   "id": "fee8ca00",
   "metadata": {},
   "outputs": [],
   "source": [
    "pred = lm.predict(X_test)"
   ]
  },
  {
   "cell_type": "code",
   "execution_count": 538,
   "id": "f5a96ded",
   "metadata": {},
   "outputs": [
    {
     "data": {
      "text/plain": [
       "array([[0.71072767, 0.71072767],\n",
       "       [0.57616779, 0.57616779],\n",
       "       [0.75082614, 0.75082614],\n",
       "       ...,\n",
       "       [0.55113222, 0.55113222],\n",
       "       [0.68509332, 0.68509332],\n",
       "       [0.50532058, 0.50532058]])"
      ]
     },
     "execution_count": 538,
     "metadata": {},
     "output_type": "execute_result"
    }
   ],
   "source": [
    "pred"
   ]
  },
  {
   "cell_type": "code",
   "execution_count": null,
   "id": "7dda7fc9",
   "metadata": {},
   "outputs": [],
   "source": []
  }
 ],
 "metadata": {
  "kernelspec": {
   "display_name": "Python 3 (ipykernel)",
   "language": "python",
   "name": "python3"
  },
  "language_info": {
   "codemirror_mode": {
    "name": "ipython",
    "version": 3
   },
   "file_extension": ".py",
   "mimetype": "text/x-python",
   "name": "python",
   "nbconvert_exporter": "python",
   "pygments_lexer": "ipython3",
   "version": "3.9.7"
  }
 },
 "nbformat": 4,
 "nbformat_minor": 5
}
